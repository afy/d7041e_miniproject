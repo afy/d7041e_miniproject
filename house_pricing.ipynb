{
 "cells": [
  {
   "cell_type": "markdown",
   "metadata": {},
   "source": [
    "# D7041E Miniproject\n",
    "\n",
    "Group ID: MINI-PROJECT 14\n",
    "\n",
    "Ahmad Allahham\n",
    "[ahmall-0@student.ltu.se] | 940120-0556 |\n",
    "\n",
    "Arian Asghari\n",
    "[ariasg-0@student.ltu.se] | 010721-7051 |\n",
    "\n",
    "Hannes Furhoff\n",
    "[hanfur-0@student.ltu.se] | 010929-4710 |\n",
    "\n",
    "## Grade requirements\n",
    "### G3: Run and understand a publicly available model on a one selected dataset.\n",
    "### G3: Choose a dataset.\n",
    "### G3: Implement tutorial.\n",
    "### G3: Test performance for different configurations of the perceptron.\n",
    "### G3: Document the performance.\n",
    "### G4: You should use data pre-processing\n",
    "### G4: Systematically choose the hyper-parameters of the model\n",
    "### G4: Use cross-validation for training \n",
    "### G4: Use different seeds and  recorded performance statistics with various performance metrics\n",
    "\n",
    "## Additional info\n",
    "Github link: `https://github.com/afy/d7041e_miniproject` <br/>\n",
    "Dataset link: `https://www.kaggle.com/datasets/muhammadbinimran/housing-price-prediction-data` <br/>\n",
    "Based on tutorial: `https://machinelearningmastery.com/building-a-regression-model-in-pytorch/` <br/>\n",
    "\n",
    "## Code"
   ]
  },
  {
   "cell_type": "code",
   "execution_count": 8,
   "metadata": {},
   "outputs": [],
   "source": [
    "import numpy as np\n",
    "import torch.nn as nn\n",
    "from collections import OrderedDict"
   ]
  },
  {
   "cell_type": "code",
   "execution_count": 9,
   "metadata": {},
   "outputs": [],
   "source": [
    "# Misc\n",
    "\n",
    "class ModelMetrics:\n",
    "    def __init__(self, _mse, _rmse, _mae, _settings):\n",
    "        self.mse = _mse\n",
    "        self.rmse = _rmse\n",
    "        self.mae = _mae\n",
    "        self.run_settings = _settings\n",
    "\n",
    "class ModelSettings:\n",
    "    def __init__(self, _layers):\n",
    "        self.layers = _layers"
   ]
  },
  {
   "cell_type": "code",
   "execution_count": 10,
   "metadata": {},
   "outputs": [],
   "source": [
    "# Preprocessing "
   ]
  },
  {
   "cell_type": "code",
   "execution_count": 11,
   "metadata": {},
   "outputs": [
    {
     "ename": "SyntaxError",
     "evalue": "incomplete input (2333754994.py, line 5)",
     "output_type": "error",
     "traceback": [
      "\u001b[1;36m  Cell \u001b[1;32mIn[11], line 5\u001b[1;36m\u001b[0m\n\u001b[1;33m    for i in range(settings.layers):\u001b[0m\n\u001b[1;37m                                    ^\u001b[0m\n\u001b[1;31mSyntaxError\u001b[0m\u001b[1;31m:\u001b[0m incomplete input\n"
     ]
    }
   ],
   "source": [
    "# Model training\n",
    "\n",
    "def evaluateModel(settings: ModelSettings, data_train: np.ndarray, data_test: np.ndarray) -> ModelMetrics:\n",
    "    seq = nn.Sequential(OrderedDict(settings.layers))\n"
   ]
  },
  {
   "cell_type": "code",
   "execution_count": null,
   "metadata": {},
   "outputs": [],
   "source": [
    "# Cross-validation\n",
    "\n",
    "def k_fold_validation(k: int, data: np.ndarray, prices: np.ndarray, settings: ModelSettings) -> ModelMetrics:\n",
    "    pass"
   ]
  },
  {
   "cell_type": "code",
   "execution_count": null,
   "metadata": {},
   "outputs": [],
   "source": [
    "# Run\n",
    "\n",
    "# Running params\n",
    "# The idea is to cycle through the permutations of these\n",
    "k_folds = 3\n",
    "min_layer_length = 0\n",
    "max_layer_length = 8\n",
    "\n",
    "# Other params\n",
    "max_saved_runs = 10\n",
    "\n",
    "\n",
    "best_runs = np.ndarray(max_saved_runs).astype(ModelMetrics)\n",
    "for layer in range(min_layer_length, max_layer_length + 1):\n",
    "    settings = ModelSettings()\n",
    "    #m = k_fold_validation(k_folds, housing_data, housing_prices, settings)"
   ]
  },
  {
   "cell_type": "code",
   "execution_count": null,
   "metadata": {},
   "outputs": [],
   "source": [
    "import itertools\n",
    "list(itertools.permutations())"
   ]
  },
  {
   "cell_type": "code",
   "execution_count": null,
   "metadata": {},
   "outputs": [],
   "source": [
    "for r in best_runs:\n",
    "    print(r.rmse)"
   ]
  }
 ],
 "metadata": {
  "kernelspec": {
   "display_name": "Python 3",
   "language": "python",
   "name": "python3"
  },
  "language_info": {
   "codemirror_mode": {
    "name": "ipython",
    "version": 3
   },
   "file_extension": ".py",
   "mimetype": "text/x-python",
   "name": "python",
   "nbconvert_exporter": "python",
   "pygments_lexer": "ipython3",
   "version": "3.11.7"
  }
 },
 "nbformat": 4,
 "nbformat_minor": 2
}
