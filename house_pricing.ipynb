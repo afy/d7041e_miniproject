{
 "cells": [
  {
   "cell_type": "markdown",
   "metadata": {},
   "source": [
    "# D7041E Miniproject - Group 14\n",
    "\n",
    "Ahmad Allahham\n",
    "[ahmall-0@student.ltu.se] | 940120-0556 |\n",
    "\n",
    "Arian Asghari\n",
    "[ariasg-0@student.ltu.se] | 010721-7051 |\n",
    "\n",
    "Hannes Furhoff\n",
    "[hanfur-0@student.ltu.se] | 010929-4710 |\n",
    "\n",
    "## Grade requirements\n",
    "### G3: Run and understand a publicly available model on a one selected data set\n",
    "### G3: Choose a dataset\n",
    "### G3: Implement tutorial\n",
    "### G3: Test performance for different configurations of the perceptron\n",
    "### G3: Document the performance \n",
    "### G4: You should use data pre-processing\n",
    "### G4: Systematically choose the hyper-parameters of the model\n",
    "### G4: Use cross-validation for training \n",
    "### G4: Use different seeds and  recorded performance statistics with various performance metrics\n",
    "\n",
    "## Additional info\n",
    "Github link: `https://github.com/afy/d7041e_miniproject`\n",
    "Dataset link: `https://www.kaggle.com/datasets/muhammadbinimran/housing-price-prediction-data`\n",
    "\n",
    "## Code"
   ]
  },
  {
   "cell_type": "code",
   "execution_count": null,
   "metadata": {},
   "outputs": [],
   "source": []
  },
  {
   "cell_type": "code",
   "execution_count": null,
   "metadata": {},
   "outputs": [],
   "source": [
    "# Preprocessing "
   ]
  },
  {
   "cell_type": "code",
   "execution_count": null,
   "metadata": {},
   "outputs": [],
   "source": [
    "# Model training\n",
    "\n",
    "def trainModel(data):\n",
    "    pass"
   ]
  }
 ],
 "metadata": {
  "language_info": {
   "name": "python"
  }
 },
 "nbformat": 4,
 "nbformat_minor": 2
}
